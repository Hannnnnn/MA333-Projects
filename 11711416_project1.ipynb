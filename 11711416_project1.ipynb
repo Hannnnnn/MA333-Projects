{
 "cells": [
  {
   "cell_type": "markdown",
   "metadata": {},
   "source": [
    "# MA333 Project 1"
   ]
  },
  {
   "cell_type": "markdown",
   "metadata": {},
   "source": [
    "11711416 MingjiHan"
   ]
  },
  {
   "cell_type": "markdown",
   "metadata": {},
   "source": [
    "### Overview"
   ]
  },
  {
   "cell_type": "markdown",
   "metadata": {},
   "source": [
    "In the project, we are going to implement the linear regression algorithm and test it on dataset."
   ]
  },
  {
   "cell_type": "markdown",
   "metadata": {},
   "source": [
    "### Formula Derivation"
   ]
  },
  {
   "cell_type": "markdown",
   "metadata": {},
   "source": [
    "#### 1.The log-likelihood function"
   ]
  },
  {
   "cell_type": "markdown",
   "metadata": {},
   "source": [
    "$$\n",
    "\\begin{align}\n",
    "l(\\textbf{w})&=\\sum_{i=1}^{n} log(p_1(\\textbf{x}_i;\\textbf{w})^{y_i}p_0(\\textbf{x}_i;\\textbf{w})^{1-y_i}) \\\\\n",
    "      &=\\sum_{i=1}^{n} y_ilog(p_1(\\textbf{x}_i;\\textbf{w}))+(1-y_i)log(p_0(\\textbf{x}_i;w))\\\\\n",
    "        &=\\sum_{i=1}^{n} y_ilog(p(\\textbf{x}_i;\\textbf{w}))+(1-y_i)log(1 - p(\\textbf{x}_i;w))\\\\\n",
    "          &=\\sum_{i=1}^{n} y_ilog(\\frac{e^{\\textbf{w}^T\\textbf{x}_i}}{1+e^{\\textbf{w}^T\\textbf{x}_i}})+(1-y_i)log(\\frac{1}{1+e^{\\textbf{w}^T\\textbf{x}_i}})\\\\\n",
    "            &=\\sum_{i=1}^{n} y_ilog(e^{\\textbf{w}^T\\textbf{x}_i}) - y_ilog(1+e^{\\textbf{w}^T\\textbf{x}_i}) +(y_i-1)log({1+e^{\\textbf{w}^T\\textbf{x}_i}})\\\\\n",
    "              &=\\sum_{i=1}^{n} y_i{\\textbf{w}^T\\textbf{x}_i} -log({1+e^{\\textbf{w}^T\\textbf{x}_i}})\\\\\n",
    "\\end{align}     \n",
    "$$\n"
   ]
  },
  {
   "cell_type": "markdown",
   "metadata": {},
   "source": [
    "#### 2. Score Equation"
   ]
  },
  {
   "cell_type": "markdown",
   "metadata": {},
   "source": [
    "Based on the formula derived from part 1,we can continue expand it"
   ]
  },
  {
   "cell_type": "markdown",
   "metadata": {},
   "source": [
    "$$\n",
    "\\begin{align}\n",
    "l(\\textbf{w})&=\\sum_{i=1}^{n} y_i{\\textbf{w}^T\\textbf{x}_i} -log({1+e^{\\textbf{w}^T\\textbf{x}_i}})\\\\\n",
    "    &=\\sum_{i=1}^{n} y_i\\sum_{j=1}^d x_{ij}w_j-log({1+e^{\\textbf{w}^T\\textbf{x}_i}})\\\\\n",
    "\\end{align}\n",
    "$$"
   ]
  },
  {
   "cell_type": "markdown",
   "metadata": {},
   "source": [
    "Then we find the partial derivative of $ w_j (j = 0,1,2,3 .... d) $"
   ]
  },
  {
   "cell_type": "markdown",
   "metadata": {},
   "source": [
    "$$\n",
    "\\begin{align}\n",
    "\\frac{\\partial{L(\\textbf{w})}}{\\partial{w_j}}&=\\sum_{i=1}^{n} y_ix_{ij}- \\frac{x_{ij}e^{\\textbf{w}^T\\textbf{x}_i} }{1+e^{\\textbf{w}^T\\textbf{x}_i}}\\\\\n",
    "&=\\sum_{i=1}^{n}x_{ij}(y_i - p(\\textbf{x}_i\\textbf{;}\\textbf{w}) )\\\\\n",
    "\\end{align}\n",
    "$$"
   ]
  },
  {
   "cell_type": "markdown",
   "metadata": {},
   "source": [
    "$$\n",
    "\\begin{align}\n",
    "\\frac{\\partial{L(\\textbf{w})}}{\\partial{w_j}}=0\\\\\n",
    "\\sum_{i=1}^{n}x_{ij}(y_i - p(\\textbf{x}_i\\textbf{;}\\textbf{w})) = 0\\\\\n",
    "\\end{align}\n",
    "$$"
   ]
  },
  {
   "cell_type": "markdown",
   "metadata": {},
   "source": [
    "#### 3.Hessian matrix"
   ]
  },
  {
   "cell_type": "markdown",
   "metadata": {},
   "source": [
    "Consider the j th element of k th row in the Hessian Matrix.\n",
    "We want to find:"
   ]
  },
  {
   "cell_type": "markdown",
   "metadata": {},
   "source": [
    "$$\n",
    "\\begin{align}\n",
    "\\frac{\\partial{L(\\textbf{w})}}{\\partial{w_k}\\partial{w_j}}\n",
    "\\end{align}\n",
    "$$"
   ]
  },
  {
   "cell_type": "markdown",
   "metadata": {},
   "source": [
    "Fron Problem 2 we know "
   ]
  },
  {
   "cell_type": "markdown",
   "metadata": {},
   "source": [
    "$$\n",
    "\\begin{align}\n",
    "\\frac{\\partial{L(\\textbf{w})}}{\\partial{w_j}}&=\\sum_{i=1}^{n}x_{ij}(y_i - p(\\textbf{x}_i\\textbf{;}\\textbf{w}) )\n",
    "\\end{align}\n",
    "$$"
   ]
  },
  {
   "cell_type": "markdown",
   "metadata": {},
   "source": [
    "So"
   ]
  },
  {
   "cell_type": "markdown",
   "metadata": {},
   "source": [
    "$$\n",
    "\\begin{align}\n",
    "\\frac{\\partial{L(\\textbf{w})}}{\\partial{w_k}\\partial{w_j}}&=-\\sum_{i=1}^{n}x_{ij} \\frac{x_{ik}e^{\\textbf{w}^T\\textbf{x}_i}({1+e^{\\textbf{w}^T\\textbf{x}_i}}) - e^{\\textbf{w}^T\\textbf{x}_i} e^{\\textbf{w}^T\\textbf{x}_i} x_{ik}}{({1+e^{\\textbf{w}^T\\textbf{x}_i}})^2}\\\\\n",
    "&=-\\sum_{i=1}^{n}x_{ik}x_{ij} \\frac{e^{\\textbf{w}^T\\textbf{x}_i}} {({1+e^{\\textbf{w}^T\\textbf{x}_i}})^2}\\\\\n",
    "&=-\\sum_{i=1}^{n}x_{ik}x_{ij} \\frac{e^{\\textbf{w}^T\\textbf{x}_i}} {{1+e^{\\textbf{w}^T\\textbf{x}_i}}} \\frac{1} {{1+e^{\\textbf{w}^T\\textbf{x}_i}}}\\\\\n",
    "&=-\\sum_{i=1}^{n}x_{ik}x_{ij}p(\\textbf{x}_i;\\textbf{w})(1-p(\\textbf{x}_i;\\textbf{w}))\n",
    "\\end{align}\n",
    "$$"
   ]
  },
  {
   "cell_type": "markdown",
   "metadata": {},
   "source": [
    "$$\n",
    "\\begin{align}\n",
    "\\frac{\\partial{L(\\textbf{w})}}{\\partial{\\textbf{w}}\\partial\\textbf{w}^T}\n",
    "&=-\\sum_{i=1}^{n}\\textbf{x}_i\\textbf{x}^T_{i}p(\\textbf{x}_i;\\textbf{w})(1-p(\\textbf{x}_i;\\textbf{w}))\n",
    "\\end{align}\n",
    "$$"
   ]
  },
  {
   "cell_type": "markdown",
   "metadata": {},
   "source": [
    "#### 4.Matrix Notation of IRLS"
   ]
  },
  {
   "cell_type": "markdown",
   "metadata": {},
   "source": [
    "Fristly we convert the derivative into matrix form"
   ]
  },
  {
   "cell_type": "markdown",
   "metadata": {},
   "source": [
    "$$\n",
    "\\begin{align}\n",
    "\\frac{\\partial{L(\\textbf{w})}}{\\partial{\\textbf{w}}\\partial\\textbf{w}^T}\n",
    "&=-\\sum_{i=1}^{n}\\textbf{x}_i\\textbf{x}^T_{i}p(\\textbf{x}_i;\\textbf{w})(1-p(\\textbf{x}_i;\\textbf{w}))\\\\\n",
    "&=-(X^TDX)^{-1}\\\\\n",
    "\\end{align}\n",
    "$$"
   ]
  },
  {
   "cell_type": "markdown",
   "metadata": {},
   "source": [
    "$$\n",
    "\\begin{align}\n",
    "\\frac{\\partial{L(\\textbf{w})}}{\\partial{w_j}}&=\\sum_{i=1}^{n}x_{ij}(y_i - p(\\textbf{x}_i\\textbf{;}\\textbf{w}) )\\\\\n",
    "\\frac{\\partial{L(\\textbf{w})}}{\\partial \\textbf{w}}&= X^{-1}(\\textbf{y}-\\textbf{p})\\\\\n",
    "\\end{align}\n",
    "$$"
   ]
  },
  {
   "cell_type": "markdown",
   "metadata": {},
   "source": [
    "Then we get the matrix form of $ \\textbf{w}^{(k)} $"
   ]
  },
  {
   "cell_type": "markdown",
   "metadata": {},
   "source": [
    "$$\n",
    "\\begin{align}\n",
    "\\textbf{w}^{(k)} &=  \\textbf{w}^{(k - 1)} -  (\\frac{\\partial^2 l(\\textbf{w})}{\\partial\\textbf{w}\\partial\\textbf{w}^T})^{-1}\\bigg|_{\\textbf{w}^{(k - 1)}} (\\frac{\\partial l(\\textbf{w})}{\\partial\\textbf{w}})^{-1}\\bigg|_{\\textbf{w}^{(k - 1)}}\\\\\n",
    "&= \\textbf{w}^{(k - 1)} + (X^TDX)^{-1}X^T(\\textbf{y}-\\textbf{p})\\\\\n",
    "&= (X^TDX)^{-1}((X^TDX)\\textbf{w}^{(k - 1)} + X^T(\\textbf{y}-\\textbf{p}))\\\\\n",
    "&= (X^TDX)^{-1}X^TD(X\\textbf{w}^{(k - 1)} + D^{-1}(\\textbf{y}-\\textbf{p}))\\\\\n",
    "&= (X^TDX)^{-1}X^TD\\textbf{z}\\\\\n",
    "&= \\mathop{argmin}\\limits_{\\textbf{w}}(\\textbf{z}-X\\textbf{w})^TD (\\textbf{z}-X\\textbf{w})\\\\\n",
    "\\end{align}\n",
    "$$"
   ]
  },
  {
   "cell_type": "markdown",
   "metadata": {},
   "source": [
    "### IRLS Algorithm"
   ]
  },
  {
   "cell_type": "code",
   "execution_count": 1,
   "metadata": {},
   "outputs": [],
   "source": [
    "import numpy as np\n",
    "from matplotlib import pyplot as plt\n",
    "from sklearn.preprocessing import normalize \n",
    "def exp(x):\n",
    "    return np.exp(x)\n",
    "\n",
    "'''IRLS Alogrithm for Logistic Regression\n",
    "   \n",
    "   Args:\n",
    "       X:Training data, a n *(d+1) matrix\n",
    "       y:Class of training data, n*1 column vector\n",
    "       error: Error bound of w\n",
    "   Return:\n",
    "       w: Weights, a (d+1) * 1 column vector \n",
    "   Notice: In order to avoid finding the inverse singular matrix which will crash the program,\n",
    "           we use np.linalg.pinv() to get the \"inverse\" of martix \n",
    "'''\n",
    "def IRIS(X,y,print_loss=True,error=1e-3,step=10):\n",
    "    print(\"Algorithm starts.\")\n",
    "    \n",
    "    w = np.random.random((X.shape[1],1))\n",
    "    w_pre = w\n",
    "    loss = []\n",
    "    iter = 0\n",
    "    \n",
    "    while True:\n",
    "        inner_product = X.dot(w) \n",
    "        \n",
    "        p = exp(inner_product) / (1.0 + exp(inner_product))\n",
    "       \n",
    "        D = np.diag(p.T[0])\n",
    "       \n",
    "        w = w + np.dot(np.dot(np.linalg.pinv(np.dot(np.dot(X.T,D),X)),X.T),y - p)\n",
    "        \n",
    "        diff = np.sum(np.abs(w - w_pre))\n",
    "        \n",
    "        if diff < error:\n",
    "            break\n",
    "        else:\n",
    "            w_pre = w\n",
    "            \n",
    "        if (iter+1) % 2 == 0:\n",
    "            if print_loss:\n",
    "                print(diff)\n",
    "            loss.append(diff)\n",
    "        iter += 1\n",
    "        \n",
    "    print(\"Algorithm finished.\")   \n",
    "    return w,loss"
   ]
  },
  {
   "cell_type": "code",
   "execution_count": 4,
   "metadata": {},
   "outputs": [
    {
     "name": "stdout",
     "output_type": "stream",
     "text": [
      "Algorithm starts.\n",
      "Algorithm finished.\n"
     ]
    }
   ],
   "source": [
    "X = np.random.random((10,6))#np.array([[0.1,0.7,2.4],[4.1,5.8,6.2],[7.7,8.5,9.3]])\n",
    "y = np.array([[1.0],[0.0],[0.0],[1.0],[0.0],[1.0],[0.0],[0.0],[1.0],[0.0]])\n",
    "w,loss = IRIS(X,y,False,1e-3)"
   ]
  },
  {
   "cell_type": "code",
   "execution_count": 5,
   "metadata": {},
   "outputs": [
    {
     "data": {
      "text/plain": [
       "[<matplotlib.lines.Line2D at 0x1df383464a8>]"
      ]
     },
     "execution_count": 5,
     "metadata": {},
     "output_type": "execute_result"
    },
    {
     "data": {
      "image/png": "[encoded data removed]",
      "text/plain": [
       "<Figure size 432x288 with 1 Axes>"
      ]
     },
     "metadata": {
      "needs_background": "light"
     },
     "output_type": "display_data"
    }
   ],
   "source": [
    "plt.title(\"Loss\")\n",
    "plt.plot(loss)"
   ]
  },
  {
   "cell_type": "markdown",
   "metadata": {},
   "source": [
    "### Test algorithm on South African Hearth dataset"
   ]
  },
  {
   "cell_type": "markdown",
   "metadata": {},
   "source": [
    "1.Define function for reading the dataset"
   ]
  },
  {
   "cell_type": "code",
   "execution_count": 6,
   "metadata": {},
   "outputs": [],
   "source": [
    "import os\n",
    "from sklearn import metrics\n",
    "def read_dataset(file_name):\n",
    "    f = open(file_name)\n",
    "    data_x = []\n",
    "    data_y = []\n",
    "    for line in f.readlines():\n",
    "        if line[0] !='@':\n",
    "            line = line.strip('\\n')\n",
    "            items = line.split(', ')\n",
    "\n",
    "            data_row = [1] # for w0\n",
    "            for i in range(len(items)):\n",
    "                if i == 4:\n",
    "                    if items[i] == 'Absent':\n",
    "                        data_row.append(1.0)\n",
    "                        data_row.append(0.0)\n",
    "                    else:\n",
    "                        data_row.append(0.0)\n",
    "                        data_row.append(1.0)\n",
    "                elif i == 9:\n",
    "                    data_y.append([int(items[i])])\n",
    "                else:\n",
    "                    data_row.append(float(items[i]))\n",
    "            data_x.append(data_row)\n",
    "           # print(items)\n",
    "    data_x = np.array(data_x)\n",
    "    data_y = np.array(data_y)\n",
    "    return (data_x,data_y)"
   ]
  },
  {
   "cell_type": "markdown",
   "metadata": {},
   "source": [
    "2.Define the function for traininng and testing"
   ]
  },
  {
   "cell_type": "code",
   "execution_count": 65,
   "metadata": {},
   "outputs": [],
   "source": [
    "from sklearn import preprocessing\n",
    "def train_and_test(num,threashold=0.75):\n",
    "    (data_x,data_y) = read_dataset('./saheart-5-fold/saheart-5-'+str(num)+'tra.dat')\n",
    "    data_x = preprocessing.scale(data_x)\n",
    "    w1,loss1 = IRIS(data_x,data_y,False,1e-2)\n",
    "    plt.title(\"Loss\")\n",
    "    plt.plot(loss1)\n",
    "    (test_x,test_y) = read_dataset('./saheart-5-fold/saheart-5-'+str(num)+'tst.dat')\n",
    "    test_x = preprocessing.scale(test_x)\n",
    "    y = test_x.dot(w1)\n",
    "    y  = exp(y) / (1.0 + exp(y))\n",
    "    y_pred = y.T > 0.75\n",
    "    y_pred = 1 * y_pred\n",
    "    \n",
    "    score = metrics.accuracy_score(test_y.T[0],y_pred[0])\n",
    "    print(\"Accuracy: \" + str(score))\n",
    "    print(\"Precision score:\"+str(precision_score(y_pred[0],test_y)))\n",
    "    mat = confusion_matrix(test_y, y_pred[0])\n",
    "    plt.matshow(confusion_matrix(test_y, y_pred[0]))\n",
    "    plt.text(0,0,mat[0][0])\n",
    "    plt.text(0,1,mat[0][1])\n",
    "    plt.text(1,0,mat[1][0])\n",
    "    plt.text(1,1,mat[1][1])\n",
    "    plt.colorbar()"
   ]
  },
  {
   "cell_type": "markdown",
   "metadata": {},
   "source": [
    "3.Train and test"
   ]
  },
  {
   "cell_type": "code",
   "execution_count": 66,
   "metadata": {},
   "outputs": [
    {
     "name": "stdout",
     "output_type": "stream",
     "text": [
      "Algorithm starts.\n",
      "Algorithm finished.\n",
      "Accuracy: 0.7204301075268817\n",
      "Precision score:0.375\n"
     ]
    },
    {
     "data": {
      "image/png": "[encoded data removed]",
      "text/plain": [
       "<Figure size 432x288 with 1 Axes>"
      ]
     },
     "metadata": {
      "needs_background": "light"
     },
     "output_type": "display_data"
    },
    {
     "data": {
      "image/png": "[encoded data removed]",
      "text/plain": [
       "<Figure size 288x288 with 2 Axes>"
      ]
     },
     "metadata": {
      "needs_background": "light"
     },
     "output_type": "display_data"
    }
   ],
   "source": [
    "train_and_test(1)"
   ]
  },
  {
   "cell_type": "code",
   "execution_count": 67,
   "metadata": {},
   "outputs": [
    {
     "name": "stdout",
     "output_type": "stream",
     "text": [
      "Algorithm starts.\n",
      "Algorithm finished.\n",
      "Accuracy: 0.7419354838709677\n",
      "Precision score:0.34375\n"
     ]
    },
    {
     "data": {
      "image/png": "[encoded data removed]",
      "text/plain": [
       "<Figure size 432x288 with 1 Axes>"
      ]
     },
     "metadata": {
      "needs_background": "light"
     },
     "output_type": "display_data"
    },
    {
     "data": {
      "image/png": "[encoded data removed]",
      "text/plain": [
       "<Figure size 288x288 with 2 Axes>"
      ]
     },
     "metadata": {
      "needs_background": "light"
     },
     "output_type": "display_data"
    }
   ],
   "source": [
    "train_and_test(2)"
   ]
  },
  {
   "cell_type": "code",
   "execution_count": 68,
   "metadata": {},
   "outputs": [
    {
     "name": "stdout",
     "output_type": "stream",
     "text": [
      "Algorithm starts.\n",
      "Algorithm finished.\n",
      "Accuracy: 0.7717391304347826\n",
      "Precision score:0.4375\n"
     ]
    },
    {
     "data": {
      "image/png": "[encoded data removed]",
      "text/plain": [
       "<Figure size 432x288 with 1 Axes>"
      ]
     },
     "metadata": {
      "needs_background": "light"
     },
     "output_type": "display_data"
    },
    {
     "data": {
      "image/png": "[encoded data removed]",
      "text/plain": [
       "<Figure size 288x288 with 2 Axes>"
      ]
     },
     "metadata": {
      "needs_background": "light"
     },
     "output_type": "display_data"
    }
   ],
   "source": [
    "train_and_test(3)"
   ]
  },
  {
   "cell_type": "code",
   "execution_count": 69,
   "metadata": {},
   "outputs": [
    {
     "name": "stdout",
     "output_type": "stream",
     "text": [
      "Algorithm starts.\n",
      "Algorithm finished.\n",
      "Accuracy: 0.75\n",
      "Precision score:0.46875\n"
     ]
    },
    {
     "data": {
      "image/png": "[encoded data removed]",
      "text/plain": [
       "<Figure size 432x288 with 1 Axes>"
      ]
     },
     "metadata": {
      "needs_background": "light"
     },
     "output_type": "display_data"
    },
    {
     "data": {
      "image/png": "[encoded data removed]",
      "text/plain": [
       "<Figure size 288x288 with 2 Axes>"
      ]
     },
     "metadata": {
      "needs_background": "light"
     },
     "output_type": "display_data"
    }
   ],
   "source": [
    "train_and_test(4)"
   ]
  },
  {
   "cell_type": "code",
   "execution_count": 70,
   "metadata": {},
   "outputs": [
    {
     "name": "stdout",
     "output_type": "stream",
     "text": [
      "Algorithm starts.\n",
      "Algorithm finished.\n",
      "Accuracy: 0.6630434782608695\n",
      "Precision score:0.25\n"
     ]
    },
    {
     "data": {
      "image/png": "[encoded data removed]",
      "text/plain": [
       "<Figure size 432x288 with 1 Axes>"
      ]
     },
     "metadata": {
      "needs_background": "light"
     },
     "output_type": "display_data"
    },
    {
     "data": {
      "image/png": "[encoded data removed]",
      "text/plain": [
       "<Figure size 288x288 with 2 Axes>"
      ]
     },
     "metadata": {
      "needs_background": "light"
     },
     "output_type": "display_data"
    }
   ],
   "source": [
    "train_and_test(5)"
   ]
  },
  {
   "cell_type": "markdown",
   "metadata": {},
   "source": [
    "4.Train and test on sklearn"
   ]
  },
  {
   "cell_type": "code",
   "execution_count": 71,
   "metadata": {},
   "outputs": [],
   "source": [
    "from sklearn.linear_model import LogisticRegression\n",
    "from sklearn.metrics import confusion_matrix\n",
    "from sklearn.metrics import precision_score"
   ]
  },
  {
   "cell_type": "code",
   "execution_count": 72,
   "metadata": {},
   "outputs": [],
   "source": [
    "def sk_train_and_test(num,threashold=0.75):\n",
    "    (data_x,data_y) = read_dataset('./saheart-5-fold/saheart-5-'+str(num)+'tra.dat')\n",
    "    data_x = preprocessing.scale(data_x)\n",
    "    clf = LogisticRegression(random_state=0, solver='lbfgs',\n",
    "                            multi_class='ovr').fit(data_x, data_y)\n",
    "    (test_x,test_y) = read_dataset('./saheart-5-fold/saheart-5-'+str(num)+'tst.dat')\n",
    "    test_x = preprocessing.scale(test_x)\n",
    "    y_pred = clf.predict(test_x)\n",
    "    score = metrics.accuracy_score(test_y.T[0],y_pred)\n",
    "    print(\"Accuracy: \" + str(score))\n",
    "    print(\"Precision score:\"+str(precision_score(y_pred,test_y)))\n",
    "    mat = confusion_matrix(test_y, y_pred)\n",
    "    plt.matshow(confusion_matrix(test_y, y_pred))\n",
    "    plt.text(0,0,mat[0][0])\n",
    "    plt.text(0,1,mat[0][1])\n",
    "    plt.text(1,0,mat[1][0])\n",
    "    plt.text(1,1,mat[1][1])\n",
    "    plt.colorbar()"
   ]
  },
  {
   "cell_type": "code",
   "execution_count": 73,
   "metadata": {},
   "outputs": [
    {
     "name": "stdout",
     "output_type": "stream",
     "text": [
      "Accuracy: 0.7419354838709677\n",
      "Precision score:0.5\n"
     ]
    },
    {
     "name": "stderr",
     "output_type": "stream",
     "text": [
      "c:\\users\\mingji han\\appdata\\local\\programs\\python\\python37\\lib\\site-packages\\sklearn\\utils\\validation.py:761: DataConversionWarning: A column-vector y was passed when a 1d array was expected. Please change the shape of y to (n_samples, ), for example using ravel().\n",
      "  y = column_or_1d(y, warn=True)\n"
     ]
    },
    {
     "data": {
      "image/png": "[encoded data removed]",
      "text/plain": [
       "<Figure size 288x288 with 2 Axes>"
      ]
     },
     "metadata": {
      "needs_background": "light"
     },
     "output_type": "display_data"
    }
   ],
   "source": [
    "sk_train_and_test(1)"
   ]
  },
  {
   "cell_type": "code",
   "execution_count": 74,
   "metadata": {},
   "outputs": [
    {
     "name": "stdout",
     "output_type": "stream",
     "text": [
      "Accuracy: 0.7634408602150538\n",
      "Precision score:0.53125\n"
     ]
    },
    {
     "name": "stderr",
     "output_type": "stream",
     "text": [
      "c:\\users\\mingji han\\appdata\\local\\programs\\python\\python37\\lib\\site-packages\\sklearn\\utils\\validation.py:761: DataConversionWarning: A column-vector y was passed when a 1d array was expected. Please change the shape of y to (n_samples, ), for example using ravel().\n",
      "  y = column_or_1d(y, warn=True)\n"
     ]
    },
    {
     "data": {
      "image/png": "[encoded data removed]",
      "text/plain": [
       "<Figure size 288x288 with 2 Axes>"
      ]
     },
     "metadata": {
      "needs_background": "light"
     },
     "output_type": "display_data"
    }
   ],
   "source": [
    "sk_train_and_test(2)"
   ]
  },
  {
   "cell_type": "code",
   "execution_count": 75,
   "metadata": {},
   "outputs": [
    {
     "name": "stdout",
     "output_type": "stream",
     "text": [
      "Accuracy: 0.7065217391304348\n",
      "Precision score:0.46875\n"
     ]
    },
    {
     "name": "stderr",
     "output_type": "stream",
     "text": [
      "c:\\users\\mingji han\\appdata\\local\\programs\\python\\python37\\lib\\site-packages\\sklearn\\utils\\validation.py:761: DataConversionWarning: A column-vector y was passed when a 1d array was expected. Please change the shape of y to (n_samples, ), for example using ravel().\n",
      "  y = column_or_1d(y, warn=True)\n"
     ]
    },
    {
     "data": {
      "image/png": "[encoded data removed]",
      "text/plain": [
       "<Figure size 288x288 with 2 Axes>"
      ]
     },
     "metadata": {
      "needs_background": "light"
     },
     "output_type": "display_data"
    }
   ],
   "source": [
    "sk_train_and_test(3)"
   ]
  },
  {
   "cell_type": "code",
   "execution_count": 76,
   "metadata": {},
   "outputs": [
    {
     "name": "stdout",
     "output_type": "stream",
     "text": [
      "Accuracy: 0.7391304347826086\n",
      "Precision score:0.5625\n"
     ]
    },
    {
     "name": "stderr",
     "output_type": "stream",
     "text": [
      "c:\\users\\mingji han\\appdata\\local\\programs\\python\\python37\\lib\\site-packages\\sklearn\\utils\\validation.py:761: DataConversionWarning: A column-vector y was passed when a 1d array was expected. Please change the shape of y to (n_samples, ), for example using ravel().\n",
      "  y = column_or_1d(y, warn=True)\n"
     ]
    },
    {
     "data": {
      "image/png": "[encoded data removed]",
      "text/plain": [
       "<Figure size 288x288 with 2 Axes>"
      ]
     },
     "metadata": {
      "needs_background": "light"
     },
     "output_type": "display_data"
    }
   ],
   "source": [
    "sk_train_and_test(4)"
   ]
  },
  {
   "cell_type": "code",
   "execution_count": 77,
   "metadata": {},
   "outputs": [
    {
     "name": "stdout",
     "output_type": "stream",
     "text": [
      "Accuracy: 0.6630434782608695\n",
      "Precision score:0.40625\n"
     ]
    },
    {
     "name": "stderr",
     "output_type": "stream",
     "text": [
      "c:\\users\\mingji han\\appdata\\local\\programs\\python\\python37\\lib\\site-packages\\sklearn\\utils\\validation.py:761: DataConversionWarning: A column-vector y was passed when a 1d array was expected. Please change the shape of y to (n_samples, ), for example using ravel().\n",
      "  y = column_or_1d(y, warn=True)\n"
     ]
    },
    {
     "data": {
      "image/png": "[encoded data removed]",
      "text/plain": [
       "<Figure size 288x288 with 2 Axes>"
      ]
     },
     "metadata": {
      "needs_background": "light"
     },
     "output_type": "display_data"
    }
   ],
   "source": [
    "sk_train_and_test(5)"
   ]
  },
  {
   "cell_type": "markdown",
   "metadata": {},
   "source": [
    "## Conclusion"
   ]
  },
  {
   "cell_type": "markdown",
   "metadata": {},
   "source": [
    "The algorithm we design is as good as the logistic regression in scikit-learn."
   ]
  },
  {
   "cell_type": "markdown",
   "metadata": {},
   "source": [
    "Our alogrithm can be improved through ensemble method."
   ]
  },
  {
   "cell_type": "code",
   "execution_count": null,
   "metadata": {},
   "outputs": [],
   "source": []
  }
 ],
 "metadata": {
  "kernelspec": {
   "display_name": "Python 3",
   "language": "python",
   "name": "python3"
  },
  "language_info": {
   "codemirror_mode": {
    "name": "ipython",
    "version": 3
   },
   "file_extension": ".py",
   "mimetype": "text/x-python",
   "name": "python",
   "nbconvert_exporter": "python",
   "pygments_lexer": "ipython3",
   "version": "3.7.2"
  }
 },
 "nbformat": 4,
 "nbformat_minor": 2
}
